{
  "nbformat": 4,
  "nbformat_minor": 0,
  "metadata": {
    "colab": {
      "provenance": [],
      "collapsed_sections": [],
      "authorship_tag": "ABX9TyOsTvOjsQaGqLYktddYCB6u",
      "include_colab_link": true
    },
    "kernelspec": {
      "name": "python3",
      "display_name": "Python 3"
    },
    "language_info": {
      "name": "python"
    },
    "accelerator": "GPU"
  },
  "cells": [
    {
      "cell_type": "markdown",
      "metadata": {
        "id": "view-in-github",
        "colab_type": "text"
      },
      "source": [
        "<a href=\"https://colab.research.google.com/github/beothorn/OneClickStableDifusionAutomatic1111Colab/blob/main/StableDifusionAutomatic1111.ipynb\" target=\"_parent\"><img src=\"https://colab.research.google.com/assets/colab-badge.svg\" alt=\"Open In Colab\"/></a>"
      ]
    },
    {
      "cell_type": "markdown",
      "source": [
        "# Simplified Automatic1111 start\n",
        "\n",
        "Auth is user/password\n",
        "\n",
        "This will save the model on your gdrive for faster startup"
      ],
      "metadata": {
        "id": "3Ge0b02eRZVL"
      }
    },
    {
      "cell_type": "code",
      "source": [
        "\n",
        "!ls"
      ],
      "metadata": {
        "id": "etiaqMSYAaNS",
        "outputId": "78cae3d3-f703-46b1-c2a9-7aa5d8c7d484",
        "colab": {
          "base_uri": "https://localhost:8080/"
        }
      },
      "execution_count": 2,
      "outputs": [
        {
          "output_type": "stream",
          "name": "stdout",
          "text": [
            "Drive already mounted at /content/drive/; to attempt to forcibly remount, call drive.mount(\"/content/drive/\", force_remount=True).\n",
            "drive  sample_data\n"
          ]
        }
      ]
    },
    {
      "cell_type": "code",
      "execution_count": null,
      "metadata": {
        "id": "NPtEBB6r18yU"
      },
      "outputs": [],
      "source": [
        "!nvidia-smi\n",
        "from google.colab import drive\n",
        "import os\n",
        "drive.mount('/content/drive/')\n",
        "gdrive_dir = 'colabAuto1111' #@param {type:\"string\"}\n",
        "update = False #@param {type:\"boolean\"}\n",
        "if os.path.isdir('/content/drive/MyDrive/colabAuto1111'):\n",
        "  !cd '/content/drive/MyDrive/colabAuto1111/stable-diffusion-webui'\n",
        "else:\n",
        "  os.mkdir('/content/drive/MyDrive/colabAuto1111')\n",
        "  !cd '/content/drive/MyDrive/colabAuto1111'\n",
        "  !git clone https://github.com/AUTOMATIC1111/stable-diffusion-webui\n",
        "  !cd  '/content/drive/MyDrive/colabAuto1111/stable-diffusion-webui'\n",
        "  user_token = \"Create a hugginface account and put your token here\" #@param {type:\"string\"}\n",
        "  user_header = f\"\\\"Authorization: Bearer {user_token}\\\"\"\n",
        "  !wget --header={user_header} https://huggingface.co/CompVis/stable-diffusion-v-1-4-original/resolve/main/sd-v1-4.ckpt -O /content/drive/MyDrive/colabAuto1111/stable-diffusion-webui/model.ckpt\n",
        "\n",
        "if update:\n",
        "  print('Will update')\n",
        "  !git pull\n",
        "  !COMMANDLINE_ARGS=\"--exit\" REQS_FILE=\"requirements.txt\" python launch.py\n",
        "\n",
        "!COMMANDLINE_ARGS=\"--share --gradio-debug --gradio-auth user:password\" REQS_FILE=\"requirements.txt\" python launch.py"
      ]
    }
  ]
}