{
  "nbformat": 4,
  "nbformat_minor": 0,
  "metadata": {
    "colab": {
      "provenance": [],
      "collapsed_sections": [],
      "authorship_tag": "ABX9TyPTjALdB485ttOEyxvNmBh1",
      "include_colab_link": true
    },
    "kernelspec": {
      "name": "python3",
      "display_name": "Python 3"
    },
    "language_info": {
      "name": "python"
    },
    "accelerator": "GPU"
  },
  "cells": [
    {
      "cell_type": "markdown",
      "metadata": {
        "id": "view-in-github",
        "colab_type": "text"
      },
      "source": [
        "<a href=\"https://colab.research.google.com/github/beothorn/OneClickStableDifusionAutomatic1111Colab/blob/main/StableDifusionAutomatic1111.ipynb\" target=\"_parent\"><img src=\"https://colab.research.google.com/assets/colab-badge.svg\" alt=\"Open In Colab\"/></a>"
      ]
    },
    {
      "cell_type": "markdown",
      "source": [
        "# Simplified Automatic1111 start\n",
        "\n",
        "Auth is user/password\n",
        "\n",
        "This will save Automatic1111 on your gdrive for faster startup\n",
        "\n",
        "To get the model create an account on hugginface and a new token at https://huggingface.co/settings/tokens"
      ],
      "metadata": {
        "id": "3Ge0b02eRZVL"
      }
    },
    {
      "cell_type": "code",
      "execution_count": null,
      "metadata": {
        "id": "NPtEBB6r18yU"
      },
      "outputs": [],
      "source": [
        "!nvidia-smi\n",
        "from google.colab import drive\n",
        "import os\n",
        "drive.mount('/content/drive/')\n",
        "update = False #@param {type:\"boolean\"}\n",
        "if os.path.isdir('/content/drive/MyDrive/asd1111'):\n",
        "  print('GDrive folder already asd1111 exists, will use it')\n",
        "  %cd '/content/drive/MyDrive/asd1111/stable-diffusion-webui'\n",
        "else:\n",
        "  print('GDrive folder asd1111 not found, creating')\n",
        "  os.mkdir('/content/drive/MyDrive/asd1111')\n",
        "  !cd '/content/drive/MyDrive/asd1111'\n",
        "  !git clone https://github.com/AUTOMATIC1111/stable-diffusion-webui '/content/drive/MyDrive/asd1111/stable-diffusion-webui'\n",
        "  user_token = \"Put your hugging face token here\" #@param {type:\"string\"}\n",
        "  user_header = f\"\\\"Authorization: Bearer {user_token}\\\"\"\n",
        "  !wget --header={user_header} https://huggingface.co/CompVis/stable-diffusion-v-1-4-original/resolve/main/sd-v1-4.ckpt -O /content/drive/MyDrive/asd1111/stable-diffusion-webui/model.ckpt\n",
        "  %cd '/content/drive/MyDrive/asd1111/stable-diffusion-webui'\n",
        "  !COMMANDLINE_ARGS=\"--exit\" REQS_FILE=\"requirements.txt\" python launch.py\n",
        "\n",
        "if update:\n",
        "  print('Will update')\n",
        "  !git pull\n",
        "  !COMMANDLINE_ARGS=\"--exit\" REQS_FILE=\"requirements.txt\" python launch.py\n",
        "\n",
        "!COMMANDLINE_ARGS=\"--share --gradio-debug --gradio-auth user:password\" REQS_FILE=\"requirements.txt\" python launch.py"
      ]
    }
  ]
}