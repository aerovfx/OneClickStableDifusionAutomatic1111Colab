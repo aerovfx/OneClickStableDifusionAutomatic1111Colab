{
  "nbformat": 4,
  "nbformat_minor": 0,
  "metadata": {
    "colab": {
      "provenance": [],
      "collapsed_sections": [],
      "authorship_tag": "ABX9TyNXlcVSAB569WBswbK/LwgI",
      "include_colab_link": true
    },
    "kernelspec": {
      "name": "python3",
      "display_name": "Python 3"
    },
    "language_info": {
      "name": "python"
    },
    "accelerator": "GPU"
  },
  "cells": [
    {
      "cell_type": "markdown",
      "metadata": {
        "id": "view-in-github",
        "colab_type": "text"
      },
      "source": [
        "<a href=\"https://colab.research.google.com/github/beothorn/OneClickStableDifusionAutomatic1111Colab/blob/main/StableDifusionAutomatic1111.ipynb\" target=\"_parent\"><img src=\"https://colab.research.google.com/assets/colab-badge.svg\" alt=\"Open In Colab\"/></a>"
      ]
    },
    {
      "cell_type": "markdown",
      "source": [
        "# Simplified Automatic1111 start\n",
        "\n",
        "Auth is user/password\n",
        "\n",
        "This will save the model on your gdrive for faster startup"
      ],
      "metadata": {
        "id": "3Ge0b02eRZVL"
      }
    },
    {
      "cell_type": "code",
      "execution_count": null,
      "metadata": {
        "id": "NPtEBB6r18yU"
      },
      "outputs": [],
      "source": [
        "!nvidia-smi\n",
        "!git clone https://github.com/AUTOMATIC1111/stable-diffusion-webui\n",
        "%cd '/content/stable-diffusion-webui'\n",
        "\n",
        "from google.colab import drive\n",
        "import os\n",
        "drive.mount('/content/drive/')\n",
        "cache_dir = \"/content/drive/MyDrive/weights\"\n",
        "if os.path.isfile(\"/content/drive/MyDrive/model.ckpt\"):\n",
        "  print(\"Will copy\")\n",
        "  !cp '/content/drive/MyDrive/model.ckpt' '/content/stable-diffusion-webui/model.ckpt' \n",
        "else:\n",
        "  user_token = \"Create a hugginface account and put your token here\" #@param {type:\"string\"}\n",
        "  user_header = f\"\\\"Authorization: Bearer {user_token}\\\"\"\n",
        "  !wget --header={user_header} https://huggingface.co/CompVis/stable-diffusion-v-1-4-original/resolve/main/sd-v1-4.ckpt -O /content/stable-diffusion-webui/model.ckpt\n",
        "  !cp '/content/stable-diffusion-webui/model.ckpt' '/content/drive/MyDrive/model.ckpt'\n",
        "\n",
        "!COMMANDLINE_ARGS=\"--exit\" REQS_FILE=\"requirements.txt\" python launch.py\n",
        "!git pull\n",
        "!COMMANDLINE_ARGS=\"--share --gradio-debug --gradio-auth user:password\" REQS_FILE=\"requirements.txt\" python launch.py"
      ]
    }
  ]
}